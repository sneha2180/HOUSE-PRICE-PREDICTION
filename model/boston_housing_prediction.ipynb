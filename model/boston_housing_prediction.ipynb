{
  "cells": [
    {
      "attachments": {},
      "cell_type": "markdown",
      "metadata": {
        "colab_type": "text",
        "id": "view-in-github"
      },
      "source": [
        "<a href=\"https://colab.research.google.com/github/sneha2180/HOUSE-PRICE-PREDICTION/blob/main/boston_housing_prediction.ipynb\" target=\"_parent\"><img src=\"https://colab.research.google.com/assets/colab-badge.svg\" alt=\"Open In Colab\"/></a>"
      ]
    },
    {
      "cell_type": "code",
      "execution_count": 1,
      "id": "7480986f",
      "metadata": {
        "_cell_guid": "b1076dfc-b9ad-4769-8c92-a6c4dae69d19",
        "_uuid": "8f2839f25d086af736a60e9eeb907d3b93b6e0e5",
        "execution": {
          "iopub.execute_input": "2023-03-17T11:24:20.754913Z",
          "iopub.status.busy": "2023-03-17T11:24:20.754453Z",
          "iopub.status.idle": "2023-03-17T11:24:20.772125Z",
          "shell.execute_reply": "2023-03-17T11:24:20.771036Z"
        },
        "id": "7480986f",
        "outputId": "dde037b6-9649-4325-a785-011dd2375685",
        "papermill": {
          "duration": 0.033169,
          "end_time": "2023-03-17T11:24:20.776076",
          "exception": false,
          "start_time": "2023-03-17T11:24:20.742907",
          "status": "completed"
        },
        "tags": []
      },
      "outputs": [],
      "source": [
        "# This Python 3 environment comes with many helpful analytics libraries installed\n",
        "# It is defined by the kaggle/python Docker image: https://github.com/kaggle/docker-python\n",
        "# For example, here's several helpful packages to load\n",
        "\n",
        "import numpy as np # linear algebra\n",
        "import pandas as pd # data processing, CSV file I/O (e.g. pd.read_csv)\n",
        "\n",
        "# Input data files are available in the read-only \"../input/\" directory\n",
        "# For example, running this (by clicking run or pressing Shift+Enter) will list all files under the input directory\n",
        "\n",
        "import os\n",
        "for dirname, _, filenames in os.walk('/kaggle/input'):\n",
        "    for filename in filenames:\n",
        "        print(os.path.join(dirname, filename))\n",
        "\n",
        "# You can write up to 20GB to the current directory (/kaggle/working/) that gets preserved as output when you create a version using \"Save & Run All\" \n",
        "# You can also write temporary files to /kaggle/temp/, but they won't be saved outside of the current session"
      ]
    },
    {
      "cell_type": "code",
      "execution_count": 8,
      "id": "5fe6118e",
      "metadata": {
        "execution": {
          "iopub.execute_input": "2023-03-17T11:24:20.796290Z",
          "iopub.status.busy": "2023-03-17T11:24:20.795837Z",
          "iopub.status.idle": "2023-03-17T11:24:20.813894Z",
          "shell.execute_reply": "2023-03-17T11:24:20.812858Z"
        },
        "id": "5fe6118e",
        "papermill": {
          "duration": 0.030925,
          "end_time": "2023-03-17T11:24:20.816646",
          "exception": false,
          "start_time": "2023-03-17T11:24:20.785721",
          "status": "completed"
        },
        "tags": []
      },
      "outputs": [],
      "source": [
        "# Reading the file using pandas\n",
        "df = pd.read_csv('housing.csv')"
      ]
    },
    {
      "cell_type": "code",
      "execution_count": 9,
      "id": "38962926",
      "metadata": {
        "execution": {
          "iopub.execute_input": "2023-03-17T11:24:20.836941Z",
          "iopub.status.busy": "2023-03-17T11:24:20.836171Z",
          "iopub.status.idle": "2023-03-17T11:24:20.840740Z",
          "shell.execute_reply": "2023-03-17T11:24:20.839637Z"
        },
        "id": "38962926",
        "papermill": {
          "duration": 0.017604,
          "end_time": "2023-03-17T11:24:20.843124",
          "exception": false,
          "start_time": "2023-03-17T11:24:20.825520",
          "status": "completed"
        },
        "tags": []
      },
      "outputs": [],
      "source": [
        "# Performing EDA (Exploratory Data Analysis) on the DataSets."
      ]
    },
    {
      "cell_type": "code",
      "execution_count": 10,
      "id": "34c86f0d",
      "metadata": {
        "execution": {
          "iopub.execute_input": "2023-03-17T11:24:20.862373Z",
          "iopub.status.busy": "2023-03-17T11:24:20.861932Z",
          "iopub.status.idle": "2023-03-17T11:24:20.896737Z",
          "shell.execute_reply": "2023-03-17T11:24:20.895399Z"
        },
        "id": "34c86f0d",
        "outputId": "ebb5536b-4699-45cf-8fa3-710ee3b81553",
        "papermill": {
          "duration": 0.047646,
          "end_time": "2023-03-17T11:24:20.899432",
          "exception": false,
          "start_time": "2023-03-17T11:24:20.851786",
          "status": "completed"
        },
        "tags": []
      },
      "outputs": [
        {
          "data": {
            "text/html": [
              "<div>\n",
              "<style scoped>\n",
              "    .dataframe tbody tr th:only-of-type {\n",
              "        vertical-align: middle;\n",
              "    }\n",
              "\n",
              "    .dataframe tbody tr th {\n",
              "        vertical-align: top;\n",
              "    }\n",
              "\n",
              "    .dataframe thead th {\n",
              "        text-align: right;\n",
              "    }\n",
              "</style>\n",
              "<table border=\"1\" class=\"dataframe\">\n",
              "  <thead>\n",
              "    <tr style=\"text-align: right;\">\n",
              "      <th></th>\n",
              "      <th>price</th>\n",
              "      <th>area</th>\n",
              "      <th>bedrooms</th>\n",
              "      <th>bathrooms</th>\n",
              "      <th>stories</th>\n",
              "      <th>mainroad</th>\n",
              "      <th>guestroom</th>\n",
              "      <th>basement</th>\n",
              "      <th>hotwaterheating</th>\n",
              "      <th>airconditioning</th>\n",
              "      <th>parking</th>\n",
              "      <th>prefarea</th>\n",
              "      <th>furnishingstatus</th>\n",
              "    </tr>\n",
              "  </thead>\n",
              "  <tbody>\n",
              "    <tr>\n",
              "      <th>0</th>\n",
              "      <td>13300000</td>\n",
              "      <td>7420</td>\n",
              "      <td>4</td>\n",
              "      <td>2</td>\n",
              "      <td>3</td>\n",
              "      <td>yes</td>\n",
              "      <td>no</td>\n",
              "      <td>no</td>\n",
              "      <td>no</td>\n",
              "      <td>yes</td>\n",
              "      <td>2</td>\n",
              "      <td>yes</td>\n",
              "      <td>furnished</td>\n",
              "    </tr>\n",
              "    <tr>\n",
              "      <th>1</th>\n",
              "      <td>12250000</td>\n",
              "      <td>8960</td>\n",
              "      <td>4</td>\n",
              "      <td>4</td>\n",
              "      <td>4</td>\n",
              "      <td>yes</td>\n",
              "      <td>no</td>\n",
              "      <td>no</td>\n",
              "      <td>no</td>\n",
              "      <td>yes</td>\n",
              "      <td>3</td>\n",
              "      <td>no</td>\n",
              "      <td>furnished</td>\n",
              "    </tr>\n",
              "    <tr>\n",
              "      <th>2</th>\n",
              "      <td>12250000</td>\n",
              "      <td>9960</td>\n",
              "      <td>3</td>\n",
              "      <td>2</td>\n",
              "      <td>2</td>\n",
              "      <td>yes</td>\n",
              "      <td>no</td>\n",
              "      <td>yes</td>\n",
              "      <td>no</td>\n",
              "      <td>no</td>\n",
              "      <td>2</td>\n",
              "      <td>yes</td>\n",
              "      <td>semi-furnished</td>\n",
              "    </tr>\n",
              "    <tr>\n",
              "      <th>3</th>\n",
              "      <td>12215000</td>\n",
              "      <td>7500</td>\n",
              "      <td>4</td>\n",
              "      <td>2</td>\n",
              "      <td>2</td>\n",
              "      <td>yes</td>\n",
              "      <td>no</td>\n",
              "      <td>yes</td>\n",
              "      <td>no</td>\n",
              "      <td>yes</td>\n",
              "      <td>3</td>\n",
              "      <td>yes</td>\n",
              "      <td>furnished</td>\n",
              "    </tr>\n",
              "    <tr>\n",
              "      <th>4</th>\n",
              "      <td>11410000</td>\n",
              "      <td>7420</td>\n",
              "      <td>4</td>\n",
              "      <td>1</td>\n",
              "      <td>2</td>\n",
              "      <td>yes</td>\n",
              "      <td>yes</td>\n",
              "      <td>yes</td>\n",
              "      <td>no</td>\n",
              "      <td>yes</td>\n",
              "      <td>2</td>\n",
              "      <td>no</td>\n",
              "      <td>furnished</td>\n",
              "    </tr>\n",
              "  </tbody>\n",
              "</table>\n",
              "</div>"
            ],
            "text/plain": [
              "      price  area  bedrooms  bathrooms  stories mainroad guestroom basement  \\\n",
              "0  13300000  7420         4          2        3      yes        no       no   \n",
              "1  12250000  8960         4          4        4      yes        no       no   \n",
              "2  12250000  9960         3          2        2      yes        no      yes   \n",
              "3  12215000  7500         4          2        2      yes        no      yes   \n",
              "4  11410000  7420         4          1        2      yes       yes      yes   \n",
              "\n",
              "  hotwaterheating airconditioning  parking prefarea furnishingstatus  \n",
              "0              no             yes        2      yes        furnished  \n",
              "1              no             yes        3       no        furnished  \n",
              "2              no              no        2      yes   semi-furnished  \n",
              "3              no             yes        3      yes        furnished  \n",
              "4              no             yes        2       no        furnished  "
            ]
          },
          "execution_count": 10,
          "metadata": {},
          "output_type": "execute_result"
        }
      ],
      "source": [
        "# head method to check aboce 5 entries of the datasets\n",
        "df.head()"
      ]
    },
    {
      "cell_type": "code",
      "execution_count": 11,
      "id": "ac356362",
      "metadata": {
        "execution": {
          "iopub.execute_input": "2023-03-17T11:24:20.919011Z",
          "iopub.status.busy": "2023-03-17T11:24:20.918598Z",
          "iopub.status.idle": "2023-03-17T11:24:20.937793Z",
          "shell.execute_reply": "2023-03-17T11:24:20.936497Z"
        },
        "id": "ac356362",
        "outputId": "cc43db01-15c4-4881-9f74-b7594699966a",
        "papermill": {
          "duration": 0.032307,
          "end_time": "2023-03-17T11:24:20.940722",
          "exception": false,
          "start_time": "2023-03-17T11:24:20.908415",
          "status": "completed"
        },
        "tags": []
      },
      "outputs": [
        {
          "data": {
            "text/plain": [
              "<bound method DataFrame.info of         price  area  bedrooms  bathrooms  stories mainroad guestroom basement  \\\n",
              "0    13300000  7420         4          2        3      yes        no       no   \n",
              "1    12250000  8960         4          4        4      yes        no       no   \n",
              "2    12250000  9960         3          2        2      yes        no      yes   \n",
              "3    12215000  7500         4          2        2      yes        no      yes   \n",
              "4    11410000  7420         4          1        2      yes       yes      yes   \n",
              "..        ...   ...       ...        ...      ...      ...       ...      ...   \n",
              "540   1820000  3000         2          1        1      yes        no      yes   \n",
              "541   1767150  2400         3          1        1       no        no       no   \n",
              "542   1750000  3620         2          1        1      yes        no       no   \n",
              "543   1750000  2910         3          1        1       no        no       no   \n",
              "544   1750000  3850         3          1        2      yes        no       no   \n",
              "\n",
              "    hotwaterheating airconditioning  parking prefarea furnishingstatus  \n",
              "0                no             yes        2      yes        furnished  \n",
              "1                no             yes        3       no        furnished  \n",
              "2                no              no        2      yes   semi-furnished  \n",
              "3                no             yes        3      yes        furnished  \n",
              "4                no             yes        2       no        furnished  \n",
              "..              ...             ...      ...      ...              ...  \n",
              "540              no              no        2       no      unfurnished  \n",
              "541              no              no        0       no   semi-furnished  \n",
              "542              no              no        0       no      unfurnished  \n",
              "543              no              no        0       no        furnished  \n",
              "544              no              no        0       no      unfurnished  \n",
              "\n",
              "[545 rows x 13 columns]>"
            ]
          },
          "execution_count": 11,
          "metadata": {},
          "output_type": "execute_result"
        }
      ],
      "source": [
        "df.info"
      ]
    },
    {
      "cell_type": "code",
      "execution_count": 12,
      "id": "b810fdc0",
      "metadata": {
        "execution": {
          "iopub.execute_input": "2023-03-17T11:24:20.961505Z",
          "iopub.status.busy": "2023-03-17T11:24:20.961074Z",
          "iopub.status.idle": "2023-03-17T11:24:20.969168Z",
          "shell.execute_reply": "2023-03-17T11:24:20.967851Z"
        },
        "id": "b810fdc0",
        "outputId": "fdf52143-ff7f-496c-f727-a9a1e812e525",
        "papermill": {
          "duration": 0.021478,
          "end_time": "2023-03-17T11:24:20.971723",
          "exception": false,
          "start_time": "2023-03-17T11:24:20.950245",
          "status": "completed"
        },
        "tags": []
      },
      "outputs": [
        {
          "data": {
            "text/plain": [
              "Index(['price', 'area', 'bedrooms', 'bathrooms', 'stories', 'mainroad',\n",
              "       'guestroom', 'basement', 'hotwaterheating', 'airconditioning',\n",
              "       'parking', 'prefarea', 'furnishingstatus'],\n",
              "      dtype='object')"
            ]
          },
          "execution_count": 12,
          "metadata": {},
          "output_type": "execute_result"
        }
      ],
      "source": [
        "# check the column name\n",
        "df.columns"
      ]
    },
    {
      "cell_type": "code",
      "execution_count": 13,
      "id": "ee033830",
      "metadata": {
        "execution": {
          "iopub.execute_input": "2023-03-17T11:24:20.992182Z",
          "iopub.status.busy": "2023-03-17T11:24:20.991737Z",
          "iopub.status.idle": "2023-03-17T11:24:20.999736Z",
          "shell.execute_reply": "2023-03-17T11:24:20.998298Z"
        },
        "id": "ee033830",
        "outputId": "5b4cdd72-099e-4265-c7fe-a63d4ab79c3c",
        "papermill": {
          "duration": 0.021596,
          "end_time": "2023-03-17T11:24:21.002530",
          "exception": false,
          "start_time": "2023-03-17T11:24:20.980934",
          "status": "completed"
        },
        "tags": []
      },
      "outputs": [
        {
          "data": {
            "text/plain": [
              "(545, 13)"
            ]
          },
          "execution_count": 13,
          "metadata": {},
          "output_type": "execute_result"
        }
      ],
      "source": [
        "# checking the dimensions of the dataset\n",
        "df.shape"
      ]
    },
    {
      "cell_type": "code",
      "execution_count": 14,
      "id": "51f4c4d8",
      "metadata": {
        "execution": {
          "iopub.execute_input": "2023-03-17T11:24:21.025314Z",
          "iopub.status.busy": "2023-03-17T11:24:21.024863Z",
          "iopub.status.idle": "2023-03-17T11:24:21.034523Z",
          "shell.execute_reply": "2023-03-17T11:24:21.033172Z"
        },
        "id": "51f4c4d8",
        "outputId": "6b2be671-7dac-432d-c0bf-ff4b5e55fd31",
        "papermill": {
          "duration": 0.023281,
          "end_time": "2023-03-17T11:24:21.037348",
          "exception": false,
          "start_time": "2023-03-17T11:24:21.014067",
          "status": "completed"
        },
        "tags": []
      },
      "outputs": [
        {
          "data": {
            "text/plain": [
              "price                int64\n",
              "area                 int64\n",
              "bedrooms             int64\n",
              "bathrooms            int64\n",
              "stories              int64\n",
              "mainroad            object\n",
              "guestroom           object\n",
              "basement            object\n",
              "hotwaterheating     object\n",
              "airconditioning     object\n",
              "parking              int64\n",
              "prefarea            object\n",
              "furnishingstatus    object\n",
              "dtype: object"
            ]
          },
          "execution_count": 14,
          "metadata": {},
          "output_type": "execute_result"
        }
      ],
      "source": [
        "# checking the datatypes of the variable\n",
        "df.dtypes"
      ]
    },
    {
      "cell_type": "code",
      "execution_count": 15,
      "id": "7b13aace",
      "metadata": {
        "execution": {
          "iopub.execute_input": "2023-03-17T11:24:21.058622Z",
          "iopub.status.busy": "2023-03-17T11:24:21.058216Z",
          "iopub.status.idle": "2023-03-17T11:24:21.071119Z",
          "shell.execute_reply": "2023-03-17T11:24:21.069496Z"
        },
        "id": "7b13aace",
        "outputId": "69087d7b-a4d0-499b-d893-614465f0ae8d",
        "papermill": {
          "duration": 0.027408,
          "end_time": "2023-03-17T11:24:21.074071",
          "exception": false,
          "start_time": "2023-03-17T11:24:21.046663",
          "status": "completed"
        },
        "tags": []
      },
      "outputs": [
        {
          "data": {
            "text/plain": [
              "pandas.core.series.Series"
            ]
          },
          "execution_count": 15,
          "metadata": {},
          "output_type": "execute_result"
        }
      ],
      "source": [
        "# To check individual column type\n",
        "type(df['price'])"
      ]
    },
    {
      "cell_type": "code",
      "execution_count": 16,
      "id": "d54c82d5",
      "metadata": {
        "execution": {
          "iopub.execute_input": "2023-03-17T11:24:21.095676Z",
          "iopub.status.busy": "2023-03-17T11:24:21.095270Z",
          "iopub.status.idle": "2023-03-17T11:24:21.108011Z",
          "shell.execute_reply": "2023-03-17T11:24:21.106835Z"
        },
        "id": "d54c82d5",
        "outputId": "f57b0ea9-05a5-4097-e35b-28d1c7e797c0",
        "papermill": {
          "duration": 0.026924,
          "end_time": "2023-03-17T11:24:21.110962",
          "exception": false,
          "start_time": "2023-03-17T11:24:21.084038",
          "status": "completed"
        },
        "tags": []
      },
      "outputs": [
        {
          "data": {
            "text/html": [
              "<div>\n",
              "<style scoped>\n",
              "    .dataframe tbody tr th:only-of-type {\n",
              "        vertical-align: middle;\n",
              "    }\n",
              "\n",
              "    .dataframe tbody tr th {\n",
              "        vertical-align: top;\n",
              "    }\n",
              "\n",
              "    .dataframe thead th {\n",
              "        text-align: right;\n",
              "    }\n",
              "</style>\n",
              "<table border=\"1\" class=\"dataframe\">\n",
              "  <thead>\n",
              "    <tr style=\"text-align: right;\">\n",
              "      <th></th>\n",
              "      <th>price</th>\n",
              "    </tr>\n",
              "  </thead>\n",
              "  <tbody>\n",
              "    <tr>\n",
              "      <th>0</th>\n",
              "      <td>13300000</td>\n",
              "    </tr>\n",
              "    <tr>\n",
              "      <th>1</th>\n",
              "      <td>12250000</td>\n",
              "    </tr>\n",
              "    <tr>\n",
              "      <th>2</th>\n",
              "      <td>12250000</td>\n",
              "    </tr>\n",
              "    <tr>\n",
              "      <th>3</th>\n",
              "      <td>12215000</td>\n",
              "    </tr>\n",
              "    <tr>\n",
              "      <th>4</th>\n",
              "      <td>11410000</td>\n",
              "    </tr>\n",
              "    <tr>\n",
              "      <th>...</th>\n",
              "      <td>...</td>\n",
              "    </tr>\n",
              "    <tr>\n",
              "      <th>540</th>\n",
              "      <td>1820000</td>\n",
              "    </tr>\n",
              "    <tr>\n",
              "      <th>541</th>\n",
              "      <td>1767150</td>\n",
              "    </tr>\n",
              "    <tr>\n",
              "      <th>542</th>\n",
              "      <td>1750000</td>\n",
              "    </tr>\n",
              "    <tr>\n",
              "      <th>543</th>\n",
              "      <td>1750000</td>\n",
              "    </tr>\n",
              "    <tr>\n",
              "      <th>544</th>\n",
              "      <td>1750000</td>\n",
              "    </tr>\n",
              "  </tbody>\n",
              "</table>\n",
              "<p>545 rows × 1 columns</p>\n",
              "</div>"
            ],
            "text/plain": [
              "        price\n",
              "0    13300000\n",
              "1    12250000\n",
              "2    12250000\n",
              "3    12215000\n",
              "4    11410000\n",
              "..        ...\n",
              "540   1820000\n",
              "541   1767150\n",
              "542   1750000\n",
              "543   1750000\n",
              "544   1750000\n",
              "\n",
              "[545 rows x 1 columns]"
            ]
          },
          "execution_count": 16,
          "metadata": {},
          "output_type": "execute_result"
        }
      ],
      "source": [
        "# To check the individual column entries\n",
        "df[['price']]"
      ]
    },
    {
      "cell_type": "code",
      "execution_count": 17,
      "id": "65a7d145",
      "metadata": {
        "execution": {
          "iopub.execute_input": "2023-03-17T11:24:21.133473Z",
          "iopub.status.busy": "2023-03-17T11:24:21.133040Z",
          "iopub.status.idle": "2023-03-17T11:24:21.144552Z",
          "shell.execute_reply": "2023-03-17T11:24:21.143523Z"
        },
        "id": "65a7d145",
        "outputId": "9cffab8b-557c-4f1f-d97d-01ce346e1e6c",
        "papermill": {
          "duration": 0.025524,
          "end_time": "2023-03-17T11:24:21.147008",
          "exception": false,
          "start_time": "2023-03-17T11:24:21.121484",
          "status": "completed"
        },
        "tags": []
      },
      "outputs": [
        {
          "data": {
            "text/plain": [
              "semi-furnished    227\n",
              "unfurnished       178\n",
              "furnished         140\n",
              "Name: furnishingstatus, dtype: int64"
            ]
          },
          "execution_count": 17,
          "metadata": {},
          "output_type": "execute_result"
        }
      ],
      "source": [
        "# Check column unique value counts\n",
        "df['furnishingstatus'].value_counts()"
      ]
    },
    {
      "cell_type": "code",
      "execution_count": 18,
      "id": "6c378780",
      "metadata": {
        "execution": {
          "iopub.execute_input": "2023-03-17T11:24:21.169176Z",
          "iopub.status.busy": "2023-03-17T11:24:21.168731Z",
          "iopub.status.idle": "2023-03-17T11:24:21.182880Z",
          "shell.execute_reply": "2023-03-17T11:24:21.181837Z"
        },
        "id": "6c378780",
        "outputId": "d7bfb38e-fbcf-403e-97b4-7e3dbffdd209",
        "papermill": {
          "duration": 0.028001,
          "end_time": "2023-03-17T11:24:21.185490",
          "exception": false,
          "start_time": "2023-03-17T11:24:21.157489",
          "status": "completed"
        },
        "tags": []
      },
      "outputs": [
        {
          "data": {
            "text/plain": [
              "['mainroad',\n",
              " 'guestroom',\n",
              " 'basement',\n",
              " 'hotwaterheating',\n",
              " 'airconditioning',\n",
              " 'prefarea',\n",
              " 'furnishingstatus']"
            ]
          },
          "execution_count": 18,
          "metadata": {},
          "output_type": "execute_result"
        }
      ],
      "source": [
        "# As the machine learning model doesn't understand the text so we need to change the text to int\n",
        "# First step to append the objects to a certain list\n",
        "\n",
        "cat_col_list = list(df.select_dtypes('object').columns)\n",
        "cat_col_list"
      ]
    },
    {
      "cell_type": "code",
      "execution_count": 19,
      "id": "f1234521",
      "metadata": {
        "execution": {
          "iopub.execute_input": "2023-03-17T11:24:21.207877Z",
          "iopub.status.busy": "2023-03-17T11:24:21.206973Z",
          "iopub.status.idle": "2023-03-17T11:24:21.226806Z",
          "shell.execute_reply": "2023-03-17T11:24:21.225574Z"
        },
        "id": "f1234521",
        "outputId": "5467e5da-df34-4bf6-e184-e1f12d16f2d5",
        "papermill": {
          "duration": 0.033973,
          "end_time": "2023-03-17T11:24:21.229479",
          "exception": false,
          "start_time": "2023-03-17T11:24:21.195506",
          "status": "completed"
        },
        "tags": []
      },
      "outputs": [
        {
          "data": {
            "text/html": [
              "<div>\n",
              "<style scoped>\n",
              "    .dataframe tbody tr th:only-of-type {\n",
              "        vertical-align: middle;\n",
              "    }\n",
              "\n",
              "    .dataframe tbody tr th {\n",
              "        vertical-align: top;\n",
              "    }\n",
              "\n",
              "    .dataframe thead th {\n",
              "        text-align: right;\n",
              "    }\n",
              "</style>\n",
              "<table border=\"1\" class=\"dataframe\">\n",
              "  <thead>\n",
              "    <tr style=\"text-align: right;\">\n",
              "      <th></th>\n",
              "      <th>mainroad</th>\n",
              "      <th>guestroom</th>\n",
              "      <th>basement</th>\n",
              "      <th>hotwaterheating</th>\n",
              "      <th>airconditioning</th>\n",
              "      <th>prefarea</th>\n",
              "      <th>furnishingstatus</th>\n",
              "    </tr>\n",
              "  </thead>\n",
              "  <tbody>\n",
              "    <tr>\n",
              "      <th>0</th>\n",
              "      <td>yes</td>\n",
              "      <td>no</td>\n",
              "      <td>no</td>\n",
              "      <td>no</td>\n",
              "      <td>yes</td>\n",
              "      <td>yes</td>\n",
              "      <td>furnished</td>\n",
              "    </tr>\n",
              "    <tr>\n",
              "      <th>1</th>\n",
              "      <td>yes</td>\n",
              "      <td>no</td>\n",
              "      <td>no</td>\n",
              "      <td>no</td>\n",
              "      <td>yes</td>\n",
              "      <td>no</td>\n",
              "      <td>furnished</td>\n",
              "    </tr>\n",
              "    <tr>\n",
              "      <th>2</th>\n",
              "      <td>yes</td>\n",
              "      <td>no</td>\n",
              "      <td>yes</td>\n",
              "      <td>no</td>\n",
              "      <td>no</td>\n",
              "      <td>yes</td>\n",
              "      <td>semi-furnished</td>\n",
              "    </tr>\n",
              "    <tr>\n",
              "      <th>3</th>\n",
              "      <td>yes</td>\n",
              "      <td>no</td>\n",
              "      <td>yes</td>\n",
              "      <td>no</td>\n",
              "      <td>yes</td>\n",
              "      <td>yes</td>\n",
              "      <td>furnished</td>\n",
              "    </tr>\n",
              "    <tr>\n",
              "      <th>4</th>\n",
              "      <td>yes</td>\n",
              "      <td>yes</td>\n",
              "      <td>yes</td>\n",
              "      <td>no</td>\n",
              "      <td>yes</td>\n",
              "      <td>no</td>\n",
              "      <td>furnished</td>\n",
              "    </tr>\n",
              "    <tr>\n",
              "      <th>...</th>\n",
              "      <td>...</td>\n",
              "      <td>...</td>\n",
              "      <td>...</td>\n",
              "      <td>...</td>\n",
              "      <td>...</td>\n",
              "      <td>...</td>\n",
              "      <td>...</td>\n",
              "    </tr>\n",
              "    <tr>\n",
              "      <th>540</th>\n",
              "      <td>yes</td>\n",
              "      <td>no</td>\n",
              "      <td>yes</td>\n",
              "      <td>no</td>\n",
              "      <td>no</td>\n",
              "      <td>no</td>\n",
              "      <td>unfurnished</td>\n",
              "    </tr>\n",
              "    <tr>\n",
              "      <th>541</th>\n",
              "      <td>no</td>\n",
              "      <td>no</td>\n",
              "      <td>no</td>\n",
              "      <td>no</td>\n",
              "      <td>no</td>\n",
              "      <td>no</td>\n",
              "      <td>semi-furnished</td>\n",
              "    </tr>\n",
              "    <tr>\n",
              "      <th>542</th>\n",
              "      <td>yes</td>\n",
              "      <td>no</td>\n",
              "      <td>no</td>\n",
              "      <td>no</td>\n",
              "      <td>no</td>\n",
              "      <td>no</td>\n",
              "      <td>unfurnished</td>\n",
              "    </tr>\n",
              "    <tr>\n",
              "      <th>543</th>\n",
              "      <td>no</td>\n",
              "      <td>no</td>\n",
              "      <td>no</td>\n",
              "      <td>no</td>\n",
              "      <td>no</td>\n",
              "      <td>no</td>\n",
              "      <td>furnished</td>\n",
              "    </tr>\n",
              "    <tr>\n",
              "      <th>544</th>\n",
              "      <td>yes</td>\n",
              "      <td>no</td>\n",
              "      <td>no</td>\n",
              "      <td>no</td>\n",
              "      <td>no</td>\n",
              "      <td>no</td>\n",
              "      <td>unfurnished</td>\n",
              "    </tr>\n",
              "  </tbody>\n",
              "</table>\n",
              "<p>545 rows × 7 columns</p>\n",
              "</div>"
            ],
            "text/plain": [
              "    mainroad guestroom basement hotwaterheating airconditioning prefarea  \\\n",
              "0        yes        no       no              no             yes      yes   \n",
              "1        yes        no       no              no             yes       no   \n",
              "2        yes        no      yes              no              no      yes   \n",
              "3        yes        no      yes              no             yes      yes   \n",
              "4        yes       yes      yes              no             yes       no   \n",
              "..       ...       ...      ...             ...             ...      ...   \n",
              "540      yes        no      yes              no              no       no   \n",
              "541       no        no       no              no              no       no   \n",
              "542      yes        no       no              no              no       no   \n",
              "543       no        no       no              no              no       no   \n",
              "544      yes        no       no              no              no       no   \n",
              "\n",
              "    furnishingstatus  \n",
              "0          furnished  \n",
              "1          furnished  \n",
              "2     semi-furnished  \n",
              "3          furnished  \n",
              "4          furnished  \n",
              "..               ...  \n",
              "540      unfurnished  \n",
              "541   semi-furnished  \n",
              "542      unfurnished  \n",
              "543        furnished  \n",
              "544      unfurnished  \n",
              "\n",
              "[545 rows x 7 columns]"
            ]
          },
          "execution_count": 19,
          "metadata": {},
          "output_type": "execute_result"
        }
      ],
      "source": [
        "# Direct method to append the complete columns to a variable\n",
        "\n",
        "df_cat = df.select_dtypes('object')\n",
        "df_cat"
      ]
    },
    {
      "cell_type": "code",
      "execution_count": 23,
      "id": "f0340ab3",
      "metadata": {
        "execution": {
          "iopub.execute_input": "2023-03-17T11:24:21.251840Z",
          "iopub.status.busy": "2023-03-17T11:24:21.251448Z",
          "iopub.status.idle": "2023-03-17T11:24:22.427339Z",
          "shell.execute_reply": "2023-03-17T11:24:22.425892Z"
        },
        "id": "f0340ab3",
        "papermill": {
          "duration": 1.190638,
          "end_time": "2023-03-17T11:24:22.430335",
          "exception": false,
          "start_time": "2023-03-17T11:24:21.239697",
          "status": "completed"
        },
        "tags": []
      },
      "outputs": [],
      "source": [
        "# To change the text to numerical value there are certain methods\n",
        "# Import following classes\n",
        "from sklearn.preprocessing import LabelBinarizer, LabelEncoder"
      ]
    },
    {
      "cell_type": "code",
      "execution_count": 24,
      "id": "9527c5cc",
      "metadata": {
        "execution": {
          "iopub.execute_input": "2023-03-17T11:24:22.453192Z",
          "iopub.status.busy": "2023-03-17T11:24:22.452694Z",
          "iopub.status.idle": "2023-03-17T11:24:22.458606Z",
          "shell.execute_reply": "2023-03-17T11:24:22.457436Z"
        },
        "id": "9527c5cc",
        "papermill": {
          "duration": 0.020067,
          "end_time": "2023-03-17T11:24:22.461039",
          "exception": false,
          "start_time": "2023-03-17T11:24:22.440972",
          "status": "completed"
        },
        "tags": []
      },
      "outputs": [],
      "source": [
        "# A complete process to change the text values to numerical values\n",
        "# Label Binarizer can only change 2 values to 0 or 1\n",
        "# label Encode can change more then 2 uniqu values to intergers.\n",
        "\n",
        "label_binarizer_cols = []\n",
        "label_encoder_col = []"
      ]
    },
    {
      "cell_type": "code",
      "execution_count": 25,
      "id": "c1f1dc65",
      "metadata": {
        "execution": {
          "iopub.execute_input": "2023-03-17T11:24:22.483475Z",
          "iopub.status.busy": "2023-03-17T11:24:22.483037Z",
          "iopub.status.idle": "2023-03-17T11:24:22.494317Z",
          "shell.execute_reply": "2023-03-17T11:24:22.492431Z"
        },
        "id": "c1f1dc65",
        "outputId": "a40af840-1679-4486-f10c-c81ef833e5ec",
        "papermill": {
          "duration": 0.027649,
          "end_time": "2023-03-17T11:24:22.498921",
          "exception": false,
          "start_time": "2023-03-17T11:24:22.471272",
          "status": "completed"
        },
        "tags": []
      },
      "outputs": [
        {
          "name": "stdout",
          "output_type": "stream",
          "text": [
            "['yes' 'no']\n",
            "['no' 'yes']\n",
            "['no' 'yes']\n",
            "['no' 'yes']\n",
            "['yes' 'no']\n",
            "['yes' 'no']\n",
            "['furnished' 'semi-furnished' 'unfurnished']\n"
          ]
        }
      ],
      "source": [
        "# Assigning the columns to respective lists\n",
        "\n",
        "for each_col in df_cat.columns:\n",
        "    if len(df_cat[each_col].unique()) == 2:\n",
        "        label_binarizer_cols.append(each_col)\n",
        "    else:\n",
        "        label_encoder_col.append(each_col)\n",
        "    print(df_cat[each_col].unique())"
      ]
    },
    {
      "cell_type": "code",
      "execution_count": 26,
      "id": "baa267e8",
      "metadata": {
        "execution": {
          "iopub.execute_input": "2023-03-17T11:24:22.522264Z",
          "iopub.status.busy": "2023-03-17T11:24:22.521828Z",
          "iopub.status.idle": "2023-03-17T11:24:22.541645Z",
          "shell.execute_reply": "2023-03-17T11:24:22.540131Z"
        },
        "id": "baa267e8",
        "papermill": {
          "duration": 0.034891,
          "end_time": "2023-03-17T11:24:22.544602",
          "exception": false,
          "start_time": "2023-03-17T11:24:22.509711",
          "status": "completed"
        },
        "tags": []
      },
      "outputs": [],
      "source": [
        "# Conversion of Binarizer values and updation of the datasets\n",
        "\n",
        "lb_obj = {}\n",
        "for each_col in label_binarizer_cols:\n",
        "    lb = LabelBinarizer()\n",
        "    lb_obj[each_col] = lb\n",
        "    df[each_col] = lb.fit_transform(df[each_col])"
      ]
    },
    {
      "cell_type": "code",
      "execution_count": 27,
      "id": "0c0b31de",
      "metadata": {
        "execution": {
          "iopub.execute_input": "2023-03-17T11:24:22.567321Z",
          "iopub.status.busy": "2023-03-17T11:24:22.566874Z",
          "iopub.status.idle": "2023-03-17T11:24:22.588209Z",
          "shell.execute_reply": "2023-03-17T11:24:22.586702Z"
        },
        "id": "0c0b31de",
        "outputId": "ec0ca8be-dced-4bbc-d868-505b5a7ae813",
        "papermill": {
          "duration": 0.035885,
          "end_time": "2023-03-17T11:24:22.590800",
          "exception": false,
          "start_time": "2023-03-17T11:24:22.554915",
          "status": "completed"
        },
        "tags": []
      },
      "outputs": [
        {
          "data": {
            "text/html": [
              "<div>\n",
              "<style scoped>\n",
              "    .dataframe tbody tr th:only-of-type {\n",
              "        vertical-align: middle;\n",
              "    }\n",
              "\n",
              "    .dataframe tbody tr th {\n",
              "        vertical-align: top;\n",
              "    }\n",
              "\n",
              "    .dataframe thead th {\n",
              "        text-align: right;\n",
              "    }\n",
              "</style>\n",
              "<table border=\"1\" class=\"dataframe\">\n",
              "  <thead>\n",
              "    <tr style=\"text-align: right;\">\n",
              "      <th></th>\n",
              "      <th>price</th>\n",
              "      <th>area</th>\n",
              "      <th>bedrooms</th>\n",
              "      <th>bathrooms</th>\n",
              "      <th>stories</th>\n",
              "      <th>mainroad</th>\n",
              "      <th>guestroom</th>\n",
              "      <th>basement</th>\n",
              "      <th>hotwaterheating</th>\n",
              "      <th>airconditioning</th>\n",
              "      <th>parking</th>\n",
              "      <th>prefarea</th>\n",
              "      <th>furnishingstatus</th>\n",
              "    </tr>\n",
              "  </thead>\n",
              "  <tbody>\n",
              "    <tr>\n",
              "      <th>0</th>\n",
              "      <td>13300000</td>\n",
              "      <td>7420</td>\n",
              "      <td>4</td>\n",
              "      <td>2</td>\n",
              "      <td>3</td>\n",
              "      <td>1</td>\n",
              "      <td>0</td>\n",
              "      <td>0</td>\n",
              "      <td>0</td>\n",
              "      <td>1</td>\n",
              "      <td>2</td>\n",
              "      <td>1</td>\n",
              "      <td>furnished</td>\n",
              "    </tr>\n",
              "    <tr>\n",
              "      <th>1</th>\n",
              "      <td>12250000</td>\n",
              "      <td>8960</td>\n",
              "      <td>4</td>\n",
              "      <td>4</td>\n",
              "      <td>4</td>\n",
              "      <td>1</td>\n",
              "      <td>0</td>\n",
              "      <td>0</td>\n",
              "      <td>0</td>\n",
              "      <td>1</td>\n",
              "      <td>3</td>\n",
              "      <td>0</td>\n",
              "      <td>furnished</td>\n",
              "    </tr>\n",
              "    <tr>\n",
              "      <th>2</th>\n",
              "      <td>12250000</td>\n",
              "      <td>9960</td>\n",
              "      <td>3</td>\n",
              "      <td>2</td>\n",
              "      <td>2</td>\n",
              "      <td>1</td>\n",
              "      <td>0</td>\n",
              "      <td>1</td>\n",
              "      <td>0</td>\n",
              "      <td>0</td>\n",
              "      <td>2</td>\n",
              "      <td>1</td>\n",
              "      <td>semi-furnished</td>\n",
              "    </tr>\n",
              "    <tr>\n",
              "      <th>3</th>\n",
              "      <td>12215000</td>\n",
              "      <td>7500</td>\n",
              "      <td>4</td>\n",
              "      <td>2</td>\n",
              "      <td>2</td>\n",
              "      <td>1</td>\n",
              "      <td>0</td>\n",
              "      <td>1</td>\n",
              "      <td>0</td>\n",
              "      <td>1</td>\n",
              "      <td>3</td>\n",
              "      <td>1</td>\n",
              "      <td>furnished</td>\n",
              "    </tr>\n",
              "    <tr>\n",
              "      <th>4</th>\n",
              "      <td>11410000</td>\n",
              "      <td>7420</td>\n",
              "      <td>4</td>\n",
              "      <td>1</td>\n",
              "      <td>2</td>\n",
              "      <td>1</td>\n",
              "      <td>1</td>\n",
              "      <td>1</td>\n",
              "      <td>0</td>\n",
              "      <td>1</td>\n",
              "      <td>2</td>\n",
              "      <td>0</td>\n",
              "      <td>furnished</td>\n",
              "    </tr>\n",
              "    <tr>\n",
              "      <th>...</th>\n",
              "      <td>...</td>\n",
              "      <td>...</td>\n",
              "      <td>...</td>\n",
              "      <td>...</td>\n",
              "      <td>...</td>\n",
              "      <td>...</td>\n",
              "      <td>...</td>\n",
              "      <td>...</td>\n",
              "      <td>...</td>\n",
              "      <td>...</td>\n",
              "      <td>...</td>\n",
              "      <td>...</td>\n",
              "      <td>...</td>\n",
              "    </tr>\n",
              "    <tr>\n",
              "      <th>540</th>\n",
              "      <td>1820000</td>\n",
              "      <td>3000</td>\n",
              "      <td>2</td>\n",
              "      <td>1</td>\n",
              "      <td>1</td>\n",
              "      <td>1</td>\n",
              "      <td>0</td>\n",
              "      <td>1</td>\n",
              "      <td>0</td>\n",
              "      <td>0</td>\n",
              "      <td>2</td>\n",
              "      <td>0</td>\n",
              "      <td>unfurnished</td>\n",
              "    </tr>\n",
              "    <tr>\n",
              "      <th>541</th>\n",
              "      <td>1767150</td>\n",
              "      <td>2400</td>\n",
              "      <td>3</td>\n",
              "      <td>1</td>\n",
              "      <td>1</td>\n",
              "      <td>0</td>\n",
              "      <td>0</td>\n",
              "      <td>0</td>\n",
              "      <td>0</td>\n",
              "      <td>0</td>\n",
              "      <td>0</td>\n",
              "      <td>0</td>\n",
              "      <td>semi-furnished</td>\n",
              "    </tr>\n",
              "    <tr>\n",
              "      <th>542</th>\n",
              "      <td>1750000</td>\n",
              "      <td>3620</td>\n",
              "      <td>2</td>\n",
              "      <td>1</td>\n",
              "      <td>1</td>\n",
              "      <td>1</td>\n",
              "      <td>0</td>\n",
              "      <td>0</td>\n",
              "      <td>0</td>\n",
              "      <td>0</td>\n",
              "      <td>0</td>\n",
              "      <td>0</td>\n",
              "      <td>unfurnished</td>\n",
              "    </tr>\n",
              "    <tr>\n",
              "      <th>543</th>\n",
              "      <td>1750000</td>\n",
              "      <td>2910</td>\n",
              "      <td>3</td>\n",
              "      <td>1</td>\n",
              "      <td>1</td>\n",
              "      <td>0</td>\n",
              "      <td>0</td>\n",
              "      <td>0</td>\n",
              "      <td>0</td>\n",
              "      <td>0</td>\n",
              "      <td>0</td>\n",
              "      <td>0</td>\n",
              "      <td>furnished</td>\n",
              "    </tr>\n",
              "    <tr>\n",
              "      <th>544</th>\n",
              "      <td>1750000</td>\n",
              "      <td>3850</td>\n",
              "      <td>3</td>\n",
              "      <td>1</td>\n",
              "      <td>2</td>\n",
              "      <td>1</td>\n",
              "      <td>0</td>\n",
              "      <td>0</td>\n",
              "      <td>0</td>\n",
              "      <td>0</td>\n",
              "      <td>0</td>\n",
              "      <td>0</td>\n",
              "      <td>unfurnished</td>\n",
              "    </tr>\n",
              "  </tbody>\n",
              "</table>\n",
              "<p>545 rows × 13 columns</p>\n",
              "</div>"
            ],
            "text/plain": [
              "        price  area  bedrooms  bathrooms  stories  mainroad  guestroom  \\\n",
              "0    13300000  7420         4          2        3         1          0   \n",
              "1    12250000  8960         4          4        4         1          0   \n",
              "2    12250000  9960         3          2        2         1          0   \n",
              "3    12215000  7500         4          2        2         1          0   \n",
              "4    11410000  7420         4          1        2         1          1   \n",
              "..        ...   ...       ...        ...      ...       ...        ...   \n",
              "540   1820000  3000         2          1        1         1          0   \n",
              "541   1767150  2400         3          1        1         0          0   \n",
              "542   1750000  3620         2          1        1         1          0   \n",
              "543   1750000  2910         3          1        1         0          0   \n",
              "544   1750000  3850         3          1        2         1          0   \n",
              "\n",
              "     basement  hotwaterheating  airconditioning  parking  prefarea  \\\n",
              "0           0                0                1        2         1   \n",
              "1           0                0                1        3         0   \n",
              "2           1                0                0        2         1   \n",
              "3           1                0                1        3         1   \n",
              "4           1                0                1        2         0   \n",
              "..        ...              ...              ...      ...       ...   \n",
              "540         1                0                0        2         0   \n",
              "541         0                0                0        0         0   \n",
              "542         0                0                0        0         0   \n",
              "543         0                0                0        0         0   \n",
              "544         0                0                0        0         0   \n",
              "\n",
              "    furnishingstatus  \n",
              "0          furnished  \n",
              "1          furnished  \n",
              "2     semi-furnished  \n",
              "3          furnished  \n",
              "4          furnished  \n",
              "..               ...  \n",
              "540      unfurnished  \n",
              "541   semi-furnished  \n",
              "542      unfurnished  \n",
              "543        furnished  \n",
              "544      unfurnished  \n",
              "\n",
              "[545 rows x 13 columns]"
            ]
          },
          "execution_count": 27,
          "metadata": {},
          "output_type": "execute_result"
        }
      ],
      "source": [
        "# Data Set View \n",
        "df"
      ]
    },
    {
      "cell_type": "code",
      "execution_count": 28,
      "id": "ad9451b8",
      "metadata": {
        "execution": {
          "iopub.execute_input": "2023-03-17T11:24:22.614563Z",
          "iopub.status.busy": "2023-03-17T11:24:22.614176Z",
          "iopub.status.idle": "2023-03-17T11:24:22.620332Z",
          "shell.execute_reply": "2023-03-17T11:24:22.619210Z"
        },
        "id": "ad9451b8",
        "papermill": {
          "duration": 0.021523,
          "end_time": "2023-03-17T11:24:22.623141",
          "exception": false,
          "start_time": "2023-03-17T11:24:22.601618",
          "status": "completed"
        },
        "tags": []
      },
      "outputs": [],
      "source": [
        "# Conversion of Encoder values and updation of the datasets\n",
        "\n",
        "le_obj = {}\n",
        "for each_col in label_encoder_col:\n",
        "    le = LabelEncoder()\n",
        "    le_obj[each_col] = le\n",
        "    df[each_col] = le.fit_transform(df[each_col])"
      ]
    },
    {
      "cell_type": "code",
      "execution_count": 29,
      "id": "c3866041",
      "metadata": {
        "execution": {
          "iopub.execute_input": "2023-03-17T11:24:22.646611Z",
          "iopub.status.busy": "2023-03-17T11:24:22.646219Z",
          "iopub.status.idle": "2023-03-17T11:24:22.658797Z",
          "shell.execute_reply": "2023-03-17T11:24:22.657802Z"
        },
        "id": "c3866041",
        "outputId": "f4962f37-e9da-494a-83a4-2b52fd777dbc",
        "papermill": {
          "duration": 0.027315,
          "end_time": "2023-03-17T11:24:22.661216",
          "exception": false,
          "start_time": "2023-03-17T11:24:22.633901",
          "status": "completed"
        },
        "tags": []
      },
      "outputs": [
        {
          "data": {
            "text/html": [
              "<div>\n",
              "<style scoped>\n",
              "    .dataframe tbody tr th:only-of-type {\n",
              "        vertical-align: middle;\n",
              "    }\n",
              "\n",
              "    .dataframe tbody tr th {\n",
              "        vertical-align: top;\n",
              "    }\n",
              "\n",
              "    .dataframe thead th {\n",
              "        text-align: right;\n",
              "    }\n",
              "</style>\n",
              "<table border=\"1\" class=\"dataframe\">\n",
              "  <thead>\n",
              "    <tr style=\"text-align: right;\">\n",
              "      <th></th>\n",
              "      <th>furnishingstatus</th>\n",
              "    </tr>\n",
              "  </thead>\n",
              "  <tbody>\n",
              "    <tr>\n",
              "      <th>0</th>\n",
              "      <td>0</td>\n",
              "    </tr>\n",
              "    <tr>\n",
              "      <th>1</th>\n",
              "      <td>0</td>\n",
              "    </tr>\n",
              "    <tr>\n",
              "      <th>2</th>\n",
              "      <td>1</td>\n",
              "    </tr>\n",
              "    <tr>\n",
              "      <th>3</th>\n",
              "      <td>0</td>\n",
              "    </tr>\n",
              "    <tr>\n",
              "      <th>4</th>\n",
              "      <td>0</td>\n",
              "    </tr>\n",
              "    <tr>\n",
              "      <th>...</th>\n",
              "      <td>...</td>\n",
              "    </tr>\n",
              "    <tr>\n",
              "      <th>540</th>\n",
              "      <td>2</td>\n",
              "    </tr>\n",
              "    <tr>\n",
              "      <th>541</th>\n",
              "      <td>1</td>\n",
              "    </tr>\n",
              "    <tr>\n",
              "      <th>542</th>\n",
              "      <td>2</td>\n",
              "    </tr>\n",
              "    <tr>\n",
              "      <th>543</th>\n",
              "      <td>0</td>\n",
              "    </tr>\n",
              "    <tr>\n",
              "      <th>544</th>\n",
              "      <td>2</td>\n",
              "    </tr>\n",
              "  </tbody>\n",
              "</table>\n",
              "<p>545 rows × 1 columns</p>\n",
              "</div>"
            ],
            "text/plain": [
              "     furnishingstatus\n",
              "0                   0\n",
              "1                   0\n",
              "2                   1\n",
              "3                   0\n",
              "4                   0\n",
              "..                ...\n",
              "540                 2\n",
              "541                 1\n",
              "542                 2\n",
              "543                 0\n",
              "544                 2\n",
              "\n",
              "[545 rows x 1 columns]"
            ]
          },
          "execution_count": 29,
          "metadata": {},
          "output_type": "execute_result"
        }
      ],
      "source": [
        "# Data Base View\n",
        "\n",
        "df[['furnishingstatus']]"
      ]
    },
    {
      "cell_type": "code",
      "execution_count": 30,
      "id": "5ea05638",
      "metadata": {
        "execution": {
          "iopub.execute_input": "2023-03-17T11:24:22.685851Z",
          "iopub.status.busy": "2023-03-17T11:24:22.685402Z",
          "iopub.status.idle": "2023-03-17T11:24:22.691859Z",
          "shell.execute_reply": "2023-03-17T11:24:22.690581Z"
        },
        "id": "5ea05638",
        "papermill": {
          "duration": 0.022842,
          "end_time": "2023-03-17T11:24:22.694884",
          "exception": false,
          "start_time": "2023-03-17T11:24:22.672042",
          "status": "completed"
        },
        "tags": []
      },
      "outputs": [],
      "source": [
        "# Assigning of the necessary variable \n",
        "\n",
        "x = df.drop('price', axis = 1)\n",
        "y = df['price']"
      ]
    },
    {
      "cell_type": "code",
      "execution_count": 31,
      "id": "6802adf8",
      "metadata": {
        "execution": {
          "iopub.execute_input": "2023-03-17T11:24:22.720171Z",
          "iopub.status.busy": "2023-03-17T11:24:22.718954Z",
          "iopub.status.idle": "2023-03-17T11:24:22.734538Z",
          "shell.execute_reply": "2023-03-17T11:24:22.733340Z"
        },
        "id": "6802adf8",
        "outputId": "8bad4021-86b2-4d2d-94a1-b8706c15762c",
        "papermill": {
          "duration": 0.030669,
          "end_time": "2023-03-17T11:24:22.736976",
          "exception": false,
          "start_time": "2023-03-17T11:24:22.706307",
          "status": "completed"
        },
        "tags": []
      },
      "outputs": [
        {
          "data": {
            "text/html": [
              "<div>\n",
              "<style scoped>\n",
              "    .dataframe tbody tr th:only-of-type {\n",
              "        vertical-align: middle;\n",
              "    }\n",
              "\n",
              "    .dataframe tbody tr th {\n",
              "        vertical-align: top;\n",
              "    }\n",
              "\n",
              "    .dataframe thead th {\n",
              "        text-align: right;\n",
              "    }\n",
              "</style>\n",
              "<table border=\"1\" class=\"dataframe\">\n",
              "  <thead>\n",
              "    <tr style=\"text-align: right;\">\n",
              "      <th></th>\n",
              "      <th>area</th>\n",
              "      <th>bedrooms</th>\n",
              "      <th>bathrooms</th>\n",
              "      <th>stories</th>\n",
              "      <th>mainroad</th>\n",
              "      <th>guestroom</th>\n",
              "      <th>basement</th>\n",
              "      <th>hotwaterheating</th>\n",
              "      <th>airconditioning</th>\n",
              "      <th>parking</th>\n",
              "      <th>prefarea</th>\n",
              "      <th>furnishingstatus</th>\n",
              "    </tr>\n",
              "  </thead>\n",
              "  <tbody>\n",
              "    <tr>\n",
              "      <th>0</th>\n",
              "      <td>7420</td>\n",
              "      <td>4</td>\n",
              "      <td>2</td>\n",
              "      <td>3</td>\n",
              "      <td>1</td>\n",
              "      <td>0</td>\n",
              "      <td>0</td>\n",
              "      <td>0</td>\n",
              "      <td>1</td>\n",
              "      <td>2</td>\n",
              "      <td>1</td>\n",
              "      <td>0</td>\n",
              "    </tr>\n",
              "    <tr>\n",
              "      <th>1</th>\n",
              "      <td>8960</td>\n",
              "      <td>4</td>\n",
              "      <td>4</td>\n",
              "      <td>4</td>\n",
              "      <td>1</td>\n",
              "      <td>0</td>\n",
              "      <td>0</td>\n",
              "      <td>0</td>\n",
              "      <td>1</td>\n",
              "      <td>3</td>\n",
              "      <td>0</td>\n",
              "      <td>0</td>\n",
              "    </tr>\n",
              "    <tr>\n",
              "      <th>2</th>\n",
              "      <td>9960</td>\n",
              "      <td>3</td>\n",
              "      <td>2</td>\n",
              "      <td>2</td>\n",
              "      <td>1</td>\n",
              "      <td>0</td>\n",
              "      <td>1</td>\n",
              "      <td>0</td>\n",
              "      <td>0</td>\n",
              "      <td>2</td>\n",
              "      <td>1</td>\n",
              "      <td>1</td>\n",
              "    </tr>\n",
              "    <tr>\n",
              "      <th>3</th>\n",
              "      <td>7500</td>\n",
              "      <td>4</td>\n",
              "      <td>2</td>\n",
              "      <td>2</td>\n",
              "      <td>1</td>\n",
              "      <td>0</td>\n",
              "      <td>1</td>\n",
              "      <td>0</td>\n",
              "      <td>1</td>\n",
              "      <td>3</td>\n",
              "      <td>1</td>\n",
              "      <td>0</td>\n",
              "    </tr>\n",
              "    <tr>\n",
              "      <th>4</th>\n",
              "      <td>7420</td>\n",
              "      <td>4</td>\n",
              "      <td>1</td>\n",
              "      <td>2</td>\n",
              "      <td>1</td>\n",
              "      <td>1</td>\n",
              "      <td>1</td>\n",
              "      <td>0</td>\n",
              "      <td>1</td>\n",
              "      <td>2</td>\n",
              "      <td>0</td>\n",
              "      <td>0</td>\n",
              "    </tr>\n",
              "  </tbody>\n",
              "</table>\n",
              "</div>"
            ],
            "text/plain": [
              "   area  bedrooms  bathrooms  stories  mainroad  guestroom  basement  \\\n",
              "0  7420         4          2        3         1          0         0   \n",
              "1  8960         4          4        4         1          0         0   \n",
              "2  9960         3          2        2         1          0         1   \n",
              "3  7500         4          2        2         1          0         1   \n",
              "4  7420         4          1        2         1          1         1   \n",
              "\n",
              "   hotwaterheating  airconditioning  parking  prefarea  furnishingstatus  \n",
              "0                0                1        2         1                 0  \n",
              "1                0                1        3         0                 0  \n",
              "2                0                0        2         1                 1  \n",
              "3                0                1        3         1                 0  \n",
              "4                0                1        2         0                 0  "
            ]
          },
          "execution_count": 31,
          "metadata": {},
          "output_type": "execute_result"
        }
      ],
      "source": [
        "x.head(5)"
      ]
    },
    {
      "cell_type": "code",
      "execution_count": 32,
      "id": "9f7dd0ac",
      "metadata": {
        "execution": {
          "iopub.execute_input": "2023-03-17T11:24:22.760936Z",
          "iopub.status.busy": "2023-03-17T11:24:22.760466Z",
          "iopub.status.idle": "2023-03-17T11:24:22.769507Z",
          "shell.execute_reply": "2023-03-17T11:24:22.767958Z"
        },
        "id": "9f7dd0ac",
        "outputId": "b7f59639-27e6-4f67-dc22-8e2920e4a3b9",
        "papermill": {
          "duration": 0.023994,
          "end_time": "2023-03-17T11:24:22.772052",
          "exception": false,
          "start_time": "2023-03-17T11:24:22.748058",
          "status": "completed"
        },
        "tags": []
      },
      "outputs": [
        {
          "data": {
            "text/plain": [
              "0    13300000\n",
              "1    12250000\n",
              "2    12250000\n",
              "3    12215000\n",
              "4    11410000\n",
              "Name: price, dtype: int64"
            ]
          },
          "execution_count": 32,
          "metadata": {},
          "output_type": "execute_result"
        }
      ],
      "source": [
        "y.head()"
      ]
    },
    {
      "cell_type": "code",
      "execution_count": 33,
      "id": "0257ffb5",
      "metadata": {
        "execution": {
          "iopub.execute_input": "2023-03-17T11:24:22.796820Z",
          "iopub.status.busy": "2023-03-17T11:24:22.796400Z",
          "iopub.status.idle": "2023-03-17T11:24:22.980740Z",
          "shell.execute_reply": "2023-03-17T11:24:22.979349Z"
        },
        "id": "0257ffb5",
        "papermill": {
          "duration": 0.200083,
          "end_time": "2023-03-17T11:24:22.983699",
          "exception": false,
          "start_time": "2023-03-17T11:24:22.783616",
          "status": "completed"
        },
        "tags": []
      },
      "outputs": [],
      "source": [
        "# Model Building using 3 different algorithms\n",
        "\n",
        "from sklearn.linear_model import LinearRegression, RidgeCV, LassoCV"
      ]
    },
    {
      "cell_type": "code",
      "execution_count": 34,
      "id": "e567dc72",
      "metadata": {
        "execution": {
          "iopub.execute_input": "2023-03-17T11:24:23.009065Z",
          "iopub.status.busy": "2023-03-17T11:24:23.008391Z",
          "iopub.status.idle": "2023-03-17T11:24:23.041387Z",
          "shell.execute_reply": "2023-03-17T11:24:23.040055Z"
        },
        "id": "e567dc72",
        "outputId": "06b16bc2-e221-45e9-8dc6-4da690d86883",
        "papermill": {
          "duration": 0.049002,
          "end_time": "2023-03-17T11:24:23.044382",
          "exception": false,
          "start_time": "2023-03-17T11:24:22.995380",
          "status": "completed"
        },
        "tags": []
      },
      "outputs": [
        {
          "data": {
            "text/html": [
              "<style>#sk-container-id-1 {color: black;background-color: white;}#sk-container-id-1 pre{padding: 0;}#sk-container-id-1 div.sk-toggleable {background-color: white;}#sk-container-id-1 label.sk-toggleable__label {cursor: pointer;display: block;width: 100%;margin-bottom: 0;padding: 0.3em;box-sizing: border-box;text-align: center;}#sk-container-id-1 label.sk-toggleable__label-arrow:before {content: \"▸\";float: left;margin-right: 0.25em;color: #696969;}#sk-container-id-1 label.sk-toggleable__label-arrow:hover:before {color: black;}#sk-container-id-1 div.sk-estimator:hover label.sk-toggleable__label-arrow:before {color: black;}#sk-container-id-1 div.sk-toggleable__content {max-height: 0;max-width: 0;overflow: hidden;text-align: left;background-color: #f0f8ff;}#sk-container-id-1 div.sk-toggleable__content pre {margin: 0.2em;color: black;border-radius: 0.25em;background-color: #f0f8ff;}#sk-container-id-1 input.sk-toggleable__control:checked~div.sk-toggleable__content {max-height: 200px;max-width: 100%;overflow: auto;}#sk-container-id-1 input.sk-toggleable__control:checked~label.sk-toggleable__label-arrow:before {content: \"▾\";}#sk-container-id-1 div.sk-estimator input.sk-toggleable__control:checked~label.sk-toggleable__label {background-color: #d4ebff;}#sk-container-id-1 div.sk-label input.sk-toggleable__control:checked~label.sk-toggleable__label {background-color: #d4ebff;}#sk-container-id-1 input.sk-hidden--visually {border: 0;clip: rect(1px 1px 1px 1px);clip: rect(1px, 1px, 1px, 1px);height: 1px;margin: -1px;overflow: hidden;padding: 0;position: absolute;width: 1px;}#sk-container-id-1 div.sk-estimator {font-family: monospace;background-color: #f0f8ff;border: 1px dotted black;border-radius: 0.25em;box-sizing: border-box;margin-bottom: 0.5em;}#sk-container-id-1 div.sk-estimator:hover {background-color: #d4ebff;}#sk-container-id-1 div.sk-parallel-item::after {content: \"\";width: 100%;border-bottom: 1px solid gray;flex-grow: 1;}#sk-container-id-1 div.sk-label:hover label.sk-toggleable__label {background-color: #d4ebff;}#sk-container-id-1 div.sk-serial::before {content: \"\";position: absolute;border-left: 1px solid gray;box-sizing: border-box;top: 0;bottom: 0;left: 50%;z-index: 0;}#sk-container-id-1 div.sk-serial {display: flex;flex-direction: column;align-items: center;background-color: white;padding-right: 0.2em;padding-left: 0.2em;position: relative;}#sk-container-id-1 div.sk-item {position: relative;z-index: 1;}#sk-container-id-1 div.sk-parallel {display: flex;align-items: stretch;justify-content: center;background-color: white;position: relative;}#sk-container-id-1 div.sk-item::before, #sk-container-id-1 div.sk-parallel-item::before {content: \"\";position: absolute;border-left: 1px solid gray;box-sizing: border-box;top: 0;bottom: 0;left: 50%;z-index: -1;}#sk-container-id-1 div.sk-parallel-item {display: flex;flex-direction: column;z-index: 1;position: relative;background-color: white;}#sk-container-id-1 div.sk-parallel-item:first-child::after {align-self: flex-end;width: 50%;}#sk-container-id-1 div.sk-parallel-item:last-child::after {align-self: flex-start;width: 50%;}#sk-container-id-1 div.sk-parallel-item:only-child::after {width: 0;}#sk-container-id-1 div.sk-dashed-wrapped {border: 1px dashed gray;margin: 0 0.4em 0.5em 0.4em;box-sizing: border-box;padding-bottom: 0.4em;background-color: white;}#sk-container-id-1 div.sk-label label {font-family: monospace;font-weight: bold;display: inline-block;line-height: 1.2em;}#sk-container-id-1 div.sk-label-container {text-align: center;}#sk-container-id-1 div.sk-container {/* jupyter's `normalize.less` sets `[hidden] { display: none; }` but bootstrap.min.css set `[hidden] { display: none !important; }` so we also need the `!important` here to be able to override the default hidden behavior on the sphinx rendered scikit-learn.org. See: https://github.com/scikit-learn/scikit-learn/issues/21755 */display: inline-block !important;position: relative;}#sk-container-id-1 div.sk-text-repr-fallback {display: none;}</style><div id=\"sk-container-id-1\" class=\"sk-top-container\"><div class=\"sk-text-repr-fallback\"><pre>LinearRegression()</pre><b>In a Jupyter environment, please rerun this cell to show the HTML representation or trust the notebook. <br />On GitHub, the HTML representation is unable to render, please try loading this page with nbviewer.org.</b></div><div class=\"sk-container\" hidden><div class=\"sk-item\"><div class=\"sk-estimator sk-toggleable\"><input class=\"sk-toggleable__control sk-hidden--visually\" id=\"sk-estimator-id-1\" type=\"checkbox\" checked><label for=\"sk-estimator-id-1\" class=\"sk-toggleable__label sk-toggleable__label-arrow\">LinearRegression</label><div class=\"sk-toggleable__content\"><pre>LinearRegression()</pre></div></div></div></div></div>"
            ],
            "text/plain": [
              "LinearRegression()"
            ]
          },
          "execution_count": 34,
          "metadata": {},
          "output_type": "execute_result"
        }
      ],
      "source": [
        "# Linear Regression model\n",
        "# Assigning the algorithm to the variable\n",
        "lr = LinearRegression()\n",
        "\n",
        "# Fitting of the model\n",
        "lr.fit(x,y)\n"
      ]
    },
    {
      "cell_type": "code",
      "execution_count": 35,
      "id": "6342aeb8",
      "metadata": {
        "execution": {
          "iopub.execute_input": "2023-03-17T11:24:23.070767Z",
          "iopub.status.busy": "2023-03-17T11:24:23.069786Z",
          "iopub.status.idle": "2023-03-17T11:24:23.080811Z",
          "shell.execute_reply": "2023-03-17T11:24:23.079564Z"
        },
        "id": "6342aeb8",
        "outputId": "d5e3eccc-a0cf-4db5-e14e-995f393ef428",
        "papermill": {
          "duration": 0.027009,
          "end_time": "2023-03-17T11:24:23.083256",
          "exception": false,
          "start_time": "2023-03-17T11:24:23.056247",
          "status": "completed"
        },
        "tags": []
      },
      "outputs": [
        {
          "data": {
            "text/plain": [
              "array([10638380.23666685,  7542628.07268391,  8408698.53020236,\n",
              "        6771486.96259187,  8334747.49458948,  9710889.51208249,\n",
              "        8514703.09449342,  7584399.24465679,  7717327.43527944,\n",
              "        8410819.47648123,  8209030.40806563,  7046301.57103505,\n",
              "        6167605.81723847,  6098291.56137894,  5060287.29954374,\n",
              "        7501266.00075274,  8149146.47006861,  6595157.0812944 ,\n",
              "        6895119.28922269,  5403985.36960561,  6699498.45778087,\n",
              "        6075496.76011549,  6663541.52845016,  7321535.50104423,\n",
              "        8192792.78781793,  8069632.6612009 ,  4553941.69895367,\n",
              "        7304016.64916945,  7148125.69943508,  7472766.34770253,\n",
              "        6581210.07040689,  6852164.8507537 ,  6713890.30012285,\n",
              "        6469709.71705743,  7783286.13916525,  7837030.13481458,\n",
              "        8390574.30017046,  6422145.90845984,  7165880.21952014,\n",
              "        6229267.40137125,  7714670.05526346,  7230078.99486997,\n",
              "        6592032.26201704,  7379068.00097786,  6316228.67806435,\n",
              "        7259593.61451047,  7623676.33306498,  5022086.07317624,\n",
              "        7069684.02606055])"
            ]
          },
          "execution_count": 35,
          "metadata": {},
          "output_type": "execute_result"
        }
      ],
      "source": [
        "# Prediction of the first 50 entries\n",
        "lr.predict(x)[1:50]"
      ]
    },
    {
      "cell_type": "code",
      "execution_count": 36,
      "id": "cd6b8f03",
      "metadata": {
        "execution": {
          "iopub.execute_input": "2023-03-17T11:24:23.108292Z",
          "iopub.status.busy": "2023-03-17T11:24:23.107616Z",
          "iopub.status.idle": "2023-03-17T11:24:23.118786Z",
          "shell.execute_reply": "2023-03-17T11:24:23.117552Z"
        },
        "id": "cd6b8f03",
        "outputId": "796420df-51d6-44f7-ca87-c0790fb060e6",
        "papermill": {
          "duration": 0.026845,
          "end_time": "2023-03-17T11:24:23.121444",
          "exception": false,
          "start_time": "2023-03-17T11:24:23.094599",
          "status": "completed"
        },
        "tags": []
      },
      "outputs": [
        {
          "data": {
            "text/html": [
              "<style>#sk-container-id-2 {color: black;background-color: white;}#sk-container-id-2 pre{padding: 0;}#sk-container-id-2 div.sk-toggleable {background-color: white;}#sk-container-id-2 label.sk-toggleable__label {cursor: pointer;display: block;width: 100%;margin-bottom: 0;padding: 0.3em;box-sizing: border-box;text-align: center;}#sk-container-id-2 label.sk-toggleable__label-arrow:before {content: \"▸\";float: left;margin-right: 0.25em;color: #696969;}#sk-container-id-2 label.sk-toggleable__label-arrow:hover:before {color: black;}#sk-container-id-2 div.sk-estimator:hover label.sk-toggleable__label-arrow:before {color: black;}#sk-container-id-2 div.sk-toggleable__content {max-height: 0;max-width: 0;overflow: hidden;text-align: left;background-color: #f0f8ff;}#sk-container-id-2 div.sk-toggleable__content pre {margin: 0.2em;color: black;border-radius: 0.25em;background-color: #f0f8ff;}#sk-container-id-2 input.sk-toggleable__control:checked~div.sk-toggleable__content {max-height: 200px;max-width: 100%;overflow: auto;}#sk-container-id-2 input.sk-toggleable__control:checked~label.sk-toggleable__label-arrow:before {content: \"▾\";}#sk-container-id-2 div.sk-estimator input.sk-toggleable__control:checked~label.sk-toggleable__label {background-color: #d4ebff;}#sk-container-id-2 div.sk-label input.sk-toggleable__control:checked~label.sk-toggleable__label {background-color: #d4ebff;}#sk-container-id-2 input.sk-hidden--visually {border: 0;clip: rect(1px 1px 1px 1px);clip: rect(1px, 1px, 1px, 1px);height: 1px;margin: -1px;overflow: hidden;padding: 0;position: absolute;width: 1px;}#sk-container-id-2 div.sk-estimator {font-family: monospace;background-color: #f0f8ff;border: 1px dotted black;border-radius: 0.25em;box-sizing: border-box;margin-bottom: 0.5em;}#sk-container-id-2 div.sk-estimator:hover {background-color: #d4ebff;}#sk-container-id-2 div.sk-parallel-item::after {content: \"\";width: 100%;border-bottom: 1px solid gray;flex-grow: 1;}#sk-container-id-2 div.sk-label:hover label.sk-toggleable__label {background-color: #d4ebff;}#sk-container-id-2 div.sk-serial::before {content: \"\";position: absolute;border-left: 1px solid gray;box-sizing: border-box;top: 0;bottom: 0;left: 50%;z-index: 0;}#sk-container-id-2 div.sk-serial {display: flex;flex-direction: column;align-items: center;background-color: white;padding-right: 0.2em;padding-left: 0.2em;position: relative;}#sk-container-id-2 div.sk-item {position: relative;z-index: 1;}#sk-container-id-2 div.sk-parallel {display: flex;align-items: stretch;justify-content: center;background-color: white;position: relative;}#sk-container-id-2 div.sk-item::before, #sk-container-id-2 div.sk-parallel-item::before {content: \"\";position: absolute;border-left: 1px solid gray;box-sizing: border-box;top: 0;bottom: 0;left: 50%;z-index: -1;}#sk-container-id-2 div.sk-parallel-item {display: flex;flex-direction: column;z-index: 1;position: relative;background-color: white;}#sk-container-id-2 div.sk-parallel-item:first-child::after {align-self: flex-end;width: 50%;}#sk-container-id-2 div.sk-parallel-item:last-child::after {align-self: flex-start;width: 50%;}#sk-container-id-2 div.sk-parallel-item:only-child::after {width: 0;}#sk-container-id-2 div.sk-dashed-wrapped {border: 1px dashed gray;margin: 0 0.4em 0.5em 0.4em;box-sizing: border-box;padding-bottom: 0.4em;background-color: white;}#sk-container-id-2 div.sk-label label {font-family: monospace;font-weight: bold;display: inline-block;line-height: 1.2em;}#sk-container-id-2 div.sk-label-container {text-align: center;}#sk-container-id-2 div.sk-container {/* jupyter's `normalize.less` sets `[hidden] { display: none; }` but bootstrap.min.css set `[hidden] { display: none !important; }` so we also need the `!important` here to be able to override the default hidden behavior on the sphinx rendered scikit-learn.org. See: https://github.com/scikit-learn/scikit-learn/issues/21755 */display: inline-block !important;position: relative;}#sk-container-id-2 div.sk-text-repr-fallback {display: none;}</style><div id=\"sk-container-id-2\" class=\"sk-top-container\"><div class=\"sk-text-repr-fallback\"><pre>RidgeCV()</pre><b>In a Jupyter environment, please rerun this cell to show the HTML representation or trust the notebook. <br />On GitHub, the HTML representation is unable to render, please try loading this page with nbviewer.org.</b></div><div class=\"sk-container\" hidden><div class=\"sk-item\"><div class=\"sk-estimator sk-toggleable\"><input class=\"sk-toggleable__control sk-hidden--visually\" id=\"sk-estimator-id-2\" type=\"checkbox\" checked><label for=\"sk-estimator-id-2\" class=\"sk-toggleable__label sk-toggleable__label-arrow\">RidgeCV</label><div class=\"sk-toggleable__content\"><pre>RidgeCV()</pre></div></div></div></div></div>"
            ],
            "text/plain": [
              "RidgeCV()"
            ]
          },
          "execution_count": 36,
          "metadata": {},
          "output_type": "execute_result"
        }
      ],
      "source": [
        "# RidgeCV model\n",
        "# Assigning the algorithm to the variable\n",
        "rc = RidgeCV()\n",
        "\n",
        "# Fitting of the model\n",
        "rc.fit(x,y)\n"
      ]
    },
    {
      "cell_type": "code",
      "execution_count": 37,
      "id": "a6c757f4",
      "metadata": {
        "execution": {
          "iopub.execute_input": "2023-03-17T11:24:23.146766Z",
          "iopub.status.busy": "2023-03-17T11:24:23.146209Z",
          "iopub.status.idle": "2023-03-17T11:24:23.156901Z",
          "shell.execute_reply": "2023-03-17T11:24:23.155624Z"
        },
        "id": "a6c757f4",
        "outputId": "54b02a26-c68d-49c7-c403-81c98edaeb6b",
        "papermill": {
          "duration": 0.026587,
          "end_time": "2023-03-17T11:24:23.159593",
          "exception": false,
          "start_time": "2023-03-17T11:24:23.133006",
          "status": "completed"
        },
        "tags": []
      },
      "outputs": [
        {
          "data": {
            "text/plain": [
              "array([10627867.39543733,  7543095.9467725 ,  8400911.08251486,\n",
              "        6775255.63429963,  8315012.35328818,  9698176.52684408,\n",
              "        8521929.48215834,  7582154.86507871,  7703934.92986606,\n",
              "        8412990.53372998,  8167823.06238235,  7034718.7604987 ,\n",
              "        6132858.22352633,  6094766.18229555,  5072044.91741868,\n",
              "        7487616.4401832 ,  8149229.83705756,  6587588.06592665,\n",
              "        6881681.06663874,  5374076.51005018,  6690984.49938719,\n",
              "        6075855.23021056,  6654858.3562301 ,  7319194.75837424,\n",
              "        8182096.44468209,  8056446.42343246,  4564675.01209159,\n",
              "        7273329.96122913,  7135366.58282994,  7469758.43230029,\n",
              "        6585621.15508806,  6839918.53334929,  6707173.71495503,\n",
              "        6473654.94903523,  7781851.19133382,  7798291.68562695,\n",
              "        8392887.5968627 ,  6423540.90842809,  7163169.82017708,\n",
              "        6222786.89739116,  7703965.5735791 ,  7226063.93063687,\n",
              "        6599758.22206495,  7377384.48526677,  6309470.38488403,\n",
              "        7256186.27403621,  7622968.24618419,  5021539.12695247,\n",
              "        7053863.71158514])"
            ]
          },
          "execution_count": 37,
          "metadata": {},
          "output_type": "execute_result"
        }
      ],
      "source": [
        "# Prediction of the first 50 entries\n",
        "rc.predict(x)[1:50]"
      ]
    },
    {
      "cell_type": "code",
      "execution_count": 38,
      "id": "38ea141d",
      "metadata": {
        "execution": {
          "iopub.execute_input": "2023-03-17T11:24:23.185211Z",
          "iopub.status.busy": "2023-03-17T11:24:23.184525Z",
          "iopub.status.idle": "2023-03-17T11:24:23.247435Z",
          "shell.execute_reply": "2023-03-17T11:24:23.246000Z"
        },
        "id": "38ea141d",
        "outputId": "4ce5f6e5-583c-45f7-b197-20505fc808d7",
        "papermill": {
          "duration": 0.078947,
          "end_time": "2023-03-17T11:24:23.250318",
          "exception": false,
          "start_time": "2023-03-17T11:24:23.171371",
          "status": "completed"
        },
        "tags": []
      },
      "outputs": [
        {
          "data": {
            "text/html": [
              "<style>#sk-container-id-3 {color: black;background-color: white;}#sk-container-id-3 pre{padding: 0;}#sk-container-id-3 div.sk-toggleable {background-color: white;}#sk-container-id-3 label.sk-toggleable__label {cursor: pointer;display: block;width: 100%;margin-bottom: 0;padding: 0.3em;box-sizing: border-box;text-align: center;}#sk-container-id-3 label.sk-toggleable__label-arrow:before {content: \"▸\";float: left;margin-right: 0.25em;color: #696969;}#sk-container-id-3 label.sk-toggleable__label-arrow:hover:before {color: black;}#sk-container-id-3 div.sk-estimator:hover label.sk-toggleable__label-arrow:before {color: black;}#sk-container-id-3 div.sk-toggleable__content {max-height: 0;max-width: 0;overflow: hidden;text-align: left;background-color: #f0f8ff;}#sk-container-id-3 div.sk-toggleable__content pre {margin: 0.2em;color: black;border-radius: 0.25em;background-color: #f0f8ff;}#sk-container-id-3 input.sk-toggleable__control:checked~div.sk-toggleable__content {max-height: 200px;max-width: 100%;overflow: auto;}#sk-container-id-3 input.sk-toggleable__control:checked~label.sk-toggleable__label-arrow:before {content: \"▾\";}#sk-container-id-3 div.sk-estimator input.sk-toggleable__control:checked~label.sk-toggleable__label {background-color: #d4ebff;}#sk-container-id-3 div.sk-label input.sk-toggleable__control:checked~label.sk-toggleable__label {background-color: #d4ebff;}#sk-container-id-3 input.sk-hidden--visually {border: 0;clip: rect(1px 1px 1px 1px);clip: rect(1px, 1px, 1px, 1px);height: 1px;margin: -1px;overflow: hidden;padding: 0;position: absolute;width: 1px;}#sk-container-id-3 div.sk-estimator {font-family: monospace;background-color: #f0f8ff;border: 1px dotted black;border-radius: 0.25em;box-sizing: border-box;margin-bottom: 0.5em;}#sk-container-id-3 div.sk-estimator:hover {background-color: #d4ebff;}#sk-container-id-3 div.sk-parallel-item::after {content: \"\";width: 100%;border-bottom: 1px solid gray;flex-grow: 1;}#sk-container-id-3 div.sk-label:hover label.sk-toggleable__label {background-color: #d4ebff;}#sk-container-id-3 div.sk-serial::before {content: \"\";position: absolute;border-left: 1px solid gray;box-sizing: border-box;top: 0;bottom: 0;left: 50%;z-index: 0;}#sk-container-id-3 div.sk-serial {display: flex;flex-direction: column;align-items: center;background-color: white;padding-right: 0.2em;padding-left: 0.2em;position: relative;}#sk-container-id-3 div.sk-item {position: relative;z-index: 1;}#sk-container-id-3 div.sk-parallel {display: flex;align-items: stretch;justify-content: center;background-color: white;position: relative;}#sk-container-id-3 div.sk-item::before, #sk-container-id-3 div.sk-parallel-item::before {content: \"\";position: absolute;border-left: 1px solid gray;box-sizing: border-box;top: 0;bottom: 0;left: 50%;z-index: -1;}#sk-container-id-3 div.sk-parallel-item {display: flex;flex-direction: column;z-index: 1;position: relative;background-color: white;}#sk-container-id-3 div.sk-parallel-item:first-child::after {align-self: flex-end;width: 50%;}#sk-container-id-3 div.sk-parallel-item:last-child::after {align-self: flex-start;width: 50%;}#sk-container-id-3 div.sk-parallel-item:only-child::after {width: 0;}#sk-container-id-3 div.sk-dashed-wrapped {border: 1px dashed gray;margin: 0 0.4em 0.5em 0.4em;box-sizing: border-box;padding-bottom: 0.4em;background-color: white;}#sk-container-id-3 div.sk-label label {font-family: monospace;font-weight: bold;display: inline-block;line-height: 1.2em;}#sk-container-id-3 div.sk-label-container {text-align: center;}#sk-container-id-3 div.sk-container {/* jupyter's `normalize.less` sets `[hidden] { display: none; }` but bootstrap.min.css set `[hidden] { display: none !important; }` so we also need the `!important` here to be able to override the default hidden behavior on the sphinx rendered scikit-learn.org. See: https://github.com/scikit-learn/scikit-learn/issues/21755 */display: inline-block !important;position: relative;}#sk-container-id-3 div.sk-text-repr-fallback {display: none;}</style><div id=\"sk-container-id-3\" class=\"sk-top-container\"><div class=\"sk-text-repr-fallback\"><pre>LassoCV()</pre><b>In a Jupyter environment, please rerun this cell to show the HTML representation or trust the notebook. <br />On GitHub, the HTML representation is unable to render, please try loading this page with nbviewer.org.</b></div><div class=\"sk-container\" hidden><div class=\"sk-item\"><div class=\"sk-estimator sk-toggleable\"><input class=\"sk-toggleable__control sk-hidden--visually\" id=\"sk-estimator-id-3\" type=\"checkbox\" checked><label for=\"sk-estimator-id-3\" class=\"sk-toggleable__label sk-toggleable__label-arrow\">LassoCV</label><div class=\"sk-toggleable__content\"><pre>LassoCV()</pre></div></div></div></div></div>"
            ],
            "text/plain": [
              "LassoCV()"
            ]
          },
          "execution_count": 38,
          "metadata": {},
          "output_type": "execute_result"
        }
      ],
      "source": [
        "# LassoCV model\n",
        "# Assigning the algorithm to the variable\n",
        "lc = LassoCV()\n",
        "\n",
        "# Fitting of the model\n",
        "lc.fit(x,y)"
      ]
    },
    {
      "cell_type": "code",
      "execution_count": 39,
      "id": "a83e964e",
      "metadata": {
        "execution": {
          "iopub.execute_input": "2023-03-17T11:24:23.275870Z",
          "iopub.status.busy": "2023-03-17T11:24:23.275154Z",
          "iopub.status.idle": "2023-03-17T11:24:23.285129Z",
          "shell.execute_reply": "2023-03-17T11:24:23.283975Z"
        },
        "id": "a83e964e",
        "outputId": "04eb69c8-feb6-474d-b639-5f94c9ecf979",
        "papermill": {
          "duration": 0.025345,
          "end_time": "2023-03-17T11:24:23.287503",
          "exception": false,
          "start_time": "2023-03-17T11:24:23.262158",
          "status": "completed"
        },
        "tags": []
      },
      "outputs": [
        {
          "data": {
            "text/plain": [
              "array([6524843.66079319, 6986356.58017171, 5851034.79850057,\n",
              "       5814113.76495029, 5851034.79850057, 6349468.75142936,\n",
              "       9866197.19709361, 6127942.55012768, 5043387.18958818,\n",
              "       8481658.43895808, 5158765.4194328 , 5412597.52509099,\n",
              "       4004983.12098653, 5989488.67431412, 5158765.4194328 ,\n",
              "       5435673.17105991, 6312547.71787908, 4512647.33230289,\n",
              "       5352600.84557178, 4383423.71487691, 5691812.84131498,\n",
              "       6104866.90415875, 4494186.81552775, 6451001.59369263,\n",
              "       5407982.3958972 , 5158765.4194328 , 6485615.06264602,\n",
              "       6058715.6122209 , 4928008.95974355, 5839496.97551611,\n",
              "       5620278.33881131, 4641870.94972887, 5140304.90265766,\n",
              "       5546436.27171075, 5620278.33881131, 5842727.56595176,\n",
              "       6543304.17756834, 5158765.4194328 , 5158765.4194328 ,\n",
              "       5412597.52509099, 5324910.07040907, 5380291.62073449,\n",
              "       5158765.4194328 , 5158765.4194328 , 5158765.4194328 ,\n",
              "       5158765.4194328 , 5435673.17105991, 4374193.45648934,\n",
              "       5823344.02333786])"
            ]
          },
          "execution_count": 39,
          "metadata": {},
          "output_type": "execute_result"
        }
      ],
      "source": [
        "# Prediction of the first 50 entries\n",
        "lc.predict(x)[1:50]"
      ]
    },
    {
      "cell_type": "code",
      "execution_count": 40,
      "id": "0e13efb0",
      "metadata": {
        "execution": {
          "iopub.execute_input": "2023-03-17T11:24:23.314610Z",
          "iopub.status.busy": "2023-03-17T11:24:23.313213Z",
          "iopub.status.idle": "2023-03-17T11:24:23.318803Z",
          "shell.execute_reply": "2023-03-17T11:24:23.317820Z"
        },
        "id": "0e13efb0",
        "papermill": {
          "duration": 0.021364,
          "end_time": "2023-03-17T11:24:23.321298",
          "exception": false,
          "start_time": "2023-03-17T11:24:23.299934",
          "status": "completed"
        },
        "tags": []
      },
      "outputs": [],
      "source": [
        "# Mean absolute error to check for all the 3 algorithms\n",
        "from sklearn.metrics import mean_absolute_error"
      ]
    },
    {
      "cell_type": "code",
      "execution_count": 41,
      "id": "bf13fc5b",
      "metadata": {
        "execution": {
          "iopub.execute_input": "2023-03-17T11:24:23.347283Z",
          "iopub.status.busy": "2023-03-17T11:24:23.346449Z",
          "iopub.status.idle": "2023-03-17T11:24:23.356507Z",
          "shell.execute_reply": "2023-03-17T11:24:23.355224Z"
        },
        "id": "bf13fc5b",
        "outputId": "7132d0c8-b532-49db-c7fc-d4ff5da8aecc",
        "papermill": {
          "duration": 0.02612,
          "end_time": "2023-03-17T11:24:23.359160",
          "exception": false,
          "start_time": "2023-03-17T11:24:23.333040",
          "status": "completed"
        },
        "tags": []
      },
      "outputs": [
        {
          "data": {
            "text/plain": [
              "776190.8030888345"
            ]
          },
          "execution_count": 41,
          "metadata": {},
          "output_type": "execute_result"
        }
      ],
      "source": [
        "# MAE for Linear Regression Model\n",
        "mean_absolute_error(y, lr.predict(x))"
      ]
    },
    {
      "cell_type": "code",
      "execution_count": 42,
      "id": "458cb38c",
      "metadata": {
        "execution": {
          "iopub.execute_input": "2023-03-17T11:24:23.386773Z",
          "iopub.status.busy": "2023-03-17T11:24:23.386352Z",
          "iopub.status.idle": "2023-03-17T11:24:23.396833Z",
          "shell.execute_reply": "2023-03-17T11:24:23.395446Z"
        },
        "id": "458cb38c",
        "outputId": "3d31ff79-2908-4f62-f49b-f8c77580bbd6",
        "papermill": {
          "duration": 0.027311,
          "end_time": "2023-03-17T11:24:23.399491",
          "exception": false,
          "start_time": "2023-03-17T11:24:23.372180",
          "status": "completed"
        },
        "tags": []
      },
      "outputs": [
        {
          "data": {
            "text/plain": [
              "775398.6923268461"
            ]
          },
          "execution_count": 42,
          "metadata": {},
          "output_type": "execute_result"
        }
      ],
      "source": [
        "# MAE for RidgeCV Model\n",
        "mean_absolute_error(y, rc.predict(x))"
      ]
    },
    {
      "cell_type": "code",
      "execution_count": null,
      "id": "5f649482",
      "metadata": {
        "execution": {
          "iopub.execute_input": "2023-03-17T11:24:23.425532Z",
          "iopub.status.busy": "2023-03-17T11:24:23.425050Z",
          "iopub.status.idle": "2023-03-17T11:24:23.436496Z",
          "shell.execute_reply": "2023-03-17T11:24:23.434799Z"
        },
        "id": "5f649482",
        "outputId": "fba928db-6cfc-49e1-97a3-00017f8f2379",
        "papermill": {
          "duration": 0.027656,
          "end_time": "2023-03-17T11:24:23.439216",
          "exception": false,
          "start_time": "2023-03-17T11:24:23.411560",
          "status": "completed"
        },
        "tags": []
      },
      "outputs": [
        {
          "data": {
            "text/plain": [
              "1172348.5953106831"
            ]
          },
          "execution_count": 34,
          "metadata": {},
          "output_type": "execute_result"
        }
      ],
      "source": [
        "# MAE for LassoCV Model\n",
        "mean_absolute_error(y, lc.predict(x))"
      ]
    }
  ],
  "metadata": {
    "colab": {
      "include_colab_link": true,
      "provenance": []
    },
    "kernelspec": {
      "display_name": "Python 3",
      "language": "python",
      "name": "python3"
    },
    "language_info": {
      "codemirror_mode": {
        "name": "ipython",
        "version": 3
      },
      "file_extension": ".py",
      "mimetype": "text/x-python",
      "name": "python",
      "nbconvert_exporter": "python",
      "pygments_lexer": "ipython3",
      "version": "3.7.12"
    },
    "papermill": {
      "default_parameters": {},
      "duration": 15.426718,
      "end_time": "2023-03-17T11:24:24.301061",
      "environment_variables": {},
      "exception": null,
      "input_path": "__notebook__.ipynb",
      "output_path": "__notebook__.ipynb",
      "parameters": {},
      "start_time": "2023-03-17T11:24:08.874343",
      "version": "2.4.0"
    }
  },
  "nbformat": 4,
  "nbformat_minor": 5
}
